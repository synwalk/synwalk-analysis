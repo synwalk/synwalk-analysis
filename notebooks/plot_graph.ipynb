{
 "cells": [
  {
   "cell_type": "markdown",
   "metadata": {
    "pycharm": {
     "name": "#%% md\n"
    }
   },
   "source": [
    "### Plot sample LFR graphs with ground truth and predicted communities\n",
    "\n",
    "In this notebook we plot sample LFR graphs with nodes clustered according to their ground truth communities. We also\n",
    "visualize prediction results to enable insight into the behavior of the detection methods.\n",
    "\n",
    "First, we import the necessary packages."
   ]
  },
  {
   "cell_type": "code",
   "execution_count": 1,
   "metadata": {
    "pycharm": {
     "name": "#%%\n"
    }
   },
   "outputs": [
    {
     "name": "stdout",
     "output_type": "stream",
     "text": [
      "Using matplotlib backend: Qt5Agg\n",
      "Populating the interactive namespace from numpy and matplotlib\n"
     ]
    }
   ],
   "source": [
    "%reload_ext autoreload\n",
    "%autoreload 2\n",
    "\n",
    "import matplotlib.pyplot as plt\n",
    "from clusim.clustering import Clustering\n",
    "from matplotlib.pyplot import Line2D\n",
    "\n",
    "from src.utils.cluster_analysis import matched_memberships, get_misclassfied_nodes\n",
    "from src.utils.plotting import init_plot_style, plot_graph, community_layout\n",
    "from src.wrappers.igraph import read_graph\n",
    "from src.wrappers.metrics import ami_score\n",
    "\n",
    "%pylab\n",
    "\n",
    "fig_dir = '../figures/'\n",
    "init_plot_style()"
   ]
  },
  {
   "cell_type": "markdown",
   "source": [
    "Select and load a sample graph."
   ],
   "metadata": {
    "collapsed": false,
    "pycharm": {
     "name": "#%% md\n"
    }
   }
  },
  {
   "cell_type": "code",
   "execution_count": 3,
   "outputs": [
    {
     "name": "stdout",
     "output_type": "stream",
     "text": [
      "Synwalk AMI score is 0.9409424671702553\n",
      "Walktrap AMI score is 0.8736630728877819\n"
     ]
    }
   ],
   "source": [
    "avg_degree = 25\n",
    "n = 600\n",
    "mu = 0.55\n",
    "seed = 296180695#106632307#27516119#10997762#14615223\n",
    "\n",
    "\n",
    "graph_file = f'../data/lfr_benchmark/{avg_degree}deg/{n}n/{int(100*mu)}mu/graph_{seed}.txt'\n",
    "clu_file_true = f'../data/lfr_benchmark/{avg_degree}deg/{n}n/{int(100*mu)}mu/clustering_{seed}.json'\n",
    "clu_file_synwalk = f'../results/lfr/clustering/synwalk/{avg_degree}deg/{n}n/{int(100*mu)}mu/clustering_{seed}_synwalk.json'\n",
    "clu_file_walktrap = f'../results/lfr/clustering/walktrap/{avg_degree}deg/{n}n/{int(100*mu)}mu/clustering_{seed}_walktrap.json'\n",
    "\n",
    "# load graph + true clustering\n",
    "graph = read_graph(graph_file)\n",
    "clu_true = Clustering().load(clu_file_true)\n",
    "\n",
    "print(f'Synwalk AMI score is {ami_score(clu_file_synwalk, clu_file_true, graph_file)}')\n",
    "print(f'Walktrap AMI score is {ami_score(clu_file_walktrap, clu_file_true, graph_file)}')"
   ],
   "metadata": {
    "collapsed": false,
    "pycharm": {
     "name": "#%%\n"
    }
   }
  },
  {
   "cell_type": "markdown",
   "source": [
    "Plot the sample graph with the predicted clusterings."
   ],
   "metadata": {
    "collapsed": false,
    "pycharm": {
     "name": "#%% md\n"
    }
   }
  },
  {
   "cell_type": "code",
   "execution_count": 4,
   "outputs": [],
   "source": [
    "# plot setup\n",
    "plt.close('all')\n",
    "save_figures = True\n",
    "cmap = plt.get_cmap('Set3')\n",
    "\n",
    "# generate custom layout\n",
    "layout=community_layout(clu_true)\n",
    "\n",
    "# plot ground truth\n",
    "fig, ax = plt.subplots(figsize=(12,9))\n",
    "plot_graph(graph_file, clu_true.to_membership_list(), layout, ax, cmap=cmap)\n",
    "plt.tight_layout()\n",
    "if save_figures:\n",
    "    fig_name = 'lfr_sample_true.pdf'\n",
    "    fig.savefig(fig_dir + fig_name, dpi=600, format='pdf')\n",
    "    plt.close()\n",
    "\n",
    "# extract misclassified and residual nodes for synwalk prediction\n",
    "clu_pred = Clustering().load(clu_file_synwalk)\n",
    "_, misclassified = get_misclassfied_nodes(clu_true, clu_pred)\n",
    "residual_nodes_cluster, modified_memberlist = matched_memberships(clu_true, clu_pred)\n",
    "residual_nodes = [node for node, cluster in enumerate(modified_memberlist) if cluster == residual_nodes_cluster]\n",
    "residual_clusters = max(clu_pred.n_clusters - clu_true.n_clusters, 0)\n",
    "\n",
    "# plot synwalk prediction\n",
    "fig, ax = plt.subplots(figsize=(12,9))\n",
    "plot_graph(graph_file, modified_memberlist, layout, ax, list(misclassified), cmap)\n",
    "\n",
    "# assemble custom legend for community colors\n",
    "custom_lines = [Line2D([], [], color=cmap(residual_nodes_cluster), ms=15, lw=0, marker='o'),\n",
    "                Line2D([], [], color='black', ms=15, lw=0, marker='o', markerfacecolor='white')]\n",
    "custom_labels = [f'Residual nodes ({len(residual_nodes)} nodes in {residual_clusters} clusters)',\n",
    "                 f'Misclassified nodes ({len(misclassified)} nodes)']\n",
    "ax.legend(custom_lines, custom_labels, loc='upper center', bbox_to_anchor=(0.5, 1.2))\n",
    "plt.tight_layout()\n",
    "\n",
    "if save_figures:\n",
    "    fig_name = 'lfr_sample_synwalk.pdf'\n",
    "    fig.savefig(fig_dir + fig_name, dpi=600, format='pdf')\n",
    "    plt.close()\n",
    "\n",
    "# extract misclassified and residual nodes for walktrap prediction\n",
    "clu_pred = Clustering().load(clu_file_walktrap)\n",
    "_, misclassified = get_misclassfied_nodes(clu_true, clu_pred)\n",
    "residual_nodes_cluster, modified_memberlist = matched_memberships(clu_true, clu_pred)\n",
    "residual_nodes = [node for node, cluster in enumerate(modified_memberlist) if cluster == residual_nodes_cluster]\n",
    "residual_clusters = max(clu_pred.n_clusters - clu_true.n_clusters, 0)\n",
    "\n",
    "# plot walktrap prediction\n",
    "fig, ax = plt.subplots(figsize=(12,9))\n",
    "plot_graph(graph_file, modified_memberlist, layout, ax, list(misclassified), cmap)\n",
    "\n",
    "# assemble custom legend for community colors\n",
    "custom_lines = [Line2D([], [], color=cmap(residual_nodes_cluster), ms=15, lw=0, marker='o'),\n",
    "                Line2D([], [], color='black', ms=15, lw=0, marker='o', markerfacecolor='white')]\n",
    "custom_labels = [f'Residual nodes ({len(residual_nodes)} nodes in {residual_clusters} clusters)',\n",
    "                 f'Misclassified nodes ({len(misclassified)} nodes)']\n",
    "ax.legend(custom_lines, custom_labels, loc='upper center', bbox_to_anchor=(0.5, 1.2))\n",
    "plt.tight_layout()\n",
    "\n",
    "if save_figures:\n",
    "    fig_name = 'lfr_sample_walktrap.pdf'\n",
    "    fig.savefig(fig_dir + fig_name, dpi=600, format='pdf')\n",
    "    plt.close()"
   ],
   "metadata": {
    "collapsed": false,
    "pycharm": {
     "name": "#%%\n"
    }
   }
  }
 ],
 "metadata": {
  "kernelspec": {
   "display_name": "Python 3",
   "language": "python",
   "name": "python3"
  },
  "language_info": {
   "codemirror_mode": {
    "name": "ipython",
    "version": 3
   },
   "file_extension": ".py",
   "mimetype": "text/x-python",
   "name": "python",
   "nbconvert_exporter": "python",
   "pygments_lexer": "ipython3",
   "version": "3.7.7"
  }
 },
 "nbformat": 4,
 "nbformat_minor": 1
}