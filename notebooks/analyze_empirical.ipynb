{
 "cells": [
  {
   "cell_type": "markdown",
   "metadata": {
    "pycharm": {
     "name": "#%% md\n"
    }
   },
   "source": [
    "### Analyse node statistics for benchmark results\n",
    "\n",
    "In this notebook we analyse the node statistics, such as e.g. average degree, for correctly and\n",
    "misclassified nodes, given the benchmark results of any community detection method.\n",
    "\n",
    "First, we import the necessary packages."
   ]
  },
  {
   "cell_type": "code",
   "execution_count": null,
   "metadata": {
    "pycharm": {
     "name": "#%%\n"
    }
   },
   "outputs": [],
   "source": [
    "%reload_ext autoreload\n",
    "%autoreload 2\n",
    "import os\n",
    "\n",
    "import matplotlib.pyplot as plt\n",
    "import numpy as np\n",
    "from clusim.clustering import Clustering\n",
    "\n",
    "from src.utils.cluster_analysis import get_cluster_properties, get_node_properties\n",
    "from src.utils.plotting import plot_histogram, init_plot_style\n",
    "from src.wrappers.igraph import read_graph\n",
    "\n",
    "%pylab\n",
    "\n",
    "init_plot_style()"
   ]
  },
  {
   "cell_type": "markdown",
   "metadata": {
    "pycharm": {
     "name": "#%% md\n"
    }
   },
   "source": [
    "First, we specify the network to be analyzed, load the network and glance at its basic properties."
   ]
  },
  {
   "cell_type": "code",
   "execution_count": null,
   "metadata": {
    "pycharm": {
     "name": "#%%\n"
    }
   },
   "outputs": [],
   "source": [
    "# select network\n",
    "network = 'github'\n",
    "\n",
    "# assemble paths\n",
    "graph_file = '../data/empirical/clean/' + network + '.txt'\n",
    "results_dir = '../results/empirical/' + network + '/'\n",
    "os.makedirs(results_dir, exist_ok=True)\n",
    "\n",
    "# output directory for storing generated figures\n",
    "fig_dir = '../figures/'\n",
    "os.makedirs(fig_dir, exist_ok=True)\n",
    "\n",
    "# load network\n",
    "graph = read_graph(graph_file)\n",
    "node_degrees = graph.degree()\n",
    "avg_degree = np.mean(node_degrees)\n",
    "print(f'Network size is {len(graph.vs)} nodes, {len(graph.es)} edges')\n",
    "print (f'Min/Max/Average degrees are {np.min(node_degrees)}, {np.max(node_degrees)}, {avg_degree}.')"
   ]
  },
  {
   "cell_type": "markdown",
   "source": [
    "Here we compute single-number characteristics of the detected clusters."
   ],
   "metadata": {
    "collapsed": false
   }
  },
  {
   "cell_type": "code",
   "execution_count": null,
   "outputs": [],
   "source": [
    "methods = ['infomap', 'synwalk', 'walktrap']\n",
    "graph = read_graph(graph_file)\n",
    "\n",
    "for method in methods:\n",
    "    clu = Clustering().load(results_dir + 'clustering_' + method + '.json')\n",
    "    trivial_clu_sizes = [len(cluster) for cluster in clu.to_cluster_list() if len(cluster) < 3]\n",
    "    num_trivial = len(trivial_clu_sizes)\n",
    "    num_non_trivial = clu.n_clusters - num_trivial\n",
    "\n",
    "    print ('\\nCluster statistics for ' + method + ': ')\n",
    "    print (f'Number of detected clusters: {clu.n_clusters}')\n",
    "    # print (f'Number of trivial clusters: {clu.n_clusters - num_non_trivial}')\n",
    "    print (f'Number of non-trivial clusters: {num_non_trivial}')\n",
    "    print (f'Fraction of non-trivial clusters: {num_non_trivial/clu.n_clusters}')\n",
    "    print (f'Fraction of nodes in non-trivial clusters: {1.0 - sum(trivial_clu_sizes)/clu.n_elements}')\n",
    "    print (f'Modularity: {graph.modularity(clu.to_membership_list())}')"
   ],
   "metadata": {
    "collapsed": false,
    "pycharm": {
     "name": "#%%\n"
    }
   }
  },
  {
   "cell_type": "markdown",
   "metadata": {
    "pycharm": {
     "name": "#%% md\n"
    }
   },
   "source": [
    "Here we plot the degree occurances of the network."
   ]
  },
  {
   "cell_type": "code",
   "execution_count": null,
   "metadata": {
    "pycharm": {
     "name": "#%%\n"
    }
   },
   "outputs": [],
   "source": [
    "# plot parameters\n",
    "bin_size = 1 # integer bin size for aggregating degrees\n",
    "save_figure = False # if True, we save the figure as .pdf in ´fig_dir´\n",
    "plt.close('all')\n",
    "\n",
    "graph = read_graph(graph_file)\n",
    "node_degrees = graph.degree()\n",
    "avg_degree = np.mean(node_degrees)\n",
    "\n",
    "# compute degree pmf\n",
    "min_deg = np.min(node_degrees)\n",
    "max_deg = np.max(node_degrees)\n",
    "bin_edges = np.array(range(min_deg - 1, max_deg+1, bin_size)) + 0.5\n",
    "bin_centers = bin_edges[:-1] + 0.5\n",
    "occurances,_ =  np.histogram(node_degrees, bins=bin_edges, density=True)\n",
    "\n",
    "# plot the degree distribution\n",
    "fig, ax = plt.subplots(figsize=(12,9))\n",
    "ax.plot(bin_centers, occurances, 'x', label=f'Node Degrees')\n",
    "ax.plot([avg_degree, avg_degree], [0, np.max(occurances)], color='crimson',\n",
    "        label=fr'Average Degree, $\\bar{{k}} = {avg_degree:.2f}$')\n",
    "\n",
    "ax.set_ylabel(r'Probability Mass, $p(k_\\alpha)$')\n",
    "ax.set_xlabel(r'Node Degree, $k_\\alpha$')\n",
    "ax.loglog()\n",
    "ax.legend(loc='upper right')\n",
    "plt.tight_layout()\n",
    "\n",
    "# save figure as .pdf\n",
    "if save_figure:\n",
    "    fig_path = fig_dir + 'degrees_' + network + '.pdf'\n",
    "    plt.savefig(fig_path, dpi=600, format='pdf')\n",
    "    plt.close()\n"
   ]
  },
  {
   "cell_type": "markdown",
   "source": [
    "The next cell plots the histogram of cluster sizes."
   ],
   "metadata": {
    "collapsed": false,
    "pycharm": {
     "name": "#%% md\n"
    }
   }
  },
  {
   "cell_type": "code",
   "execution_count": null,
   "outputs": [],
   "source": [
    "feature = 'size'\n",
    "n_bins = 25\n",
    "xmax = 1e3\n",
    "plt.close('all')\n",
    "save_figure = True # if True, we save the figure as .pdf in ´fig_dir´\n",
    "\n",
    "# compute cluster properties\n",
    "data = []\n",
    "for method in methods:\n",
    "    clu = Clustering().load(results_dir + 'clustering_' + method + '.json')\n",
    "    data.append(get_cluster_properties(graph, clu, feature=feature))\n",
    "\n",
    "# plot histogram\n",
    "_, ax = plt.subplots(figsize=(12,9))\n",
    "plot_histogram(ax, data, methods, n_bins, normalization = 'pmf', log_scale=True, xmax=xmax)\n",
    "\n",
    "ax.set_xlabel(r'Cluster sizes, $|\\mathcal{Y}_i|$')\n",
    "ax.set_ylabel(r'Bin Probability Mass, $p(|\\mathcal{Y}_i|)$')\n",
    "ax.legend(loc='best')\n",
    "plt.tight_layout()\n",
    "\n",
    "# save figure as .pdf\n",
    "if save_figure:\n",
    "    fig_path = fig_dir + feature + '_' + network + '.pdf'\n",
    "    plt.savefig(fig_path, dpi=600, format='pdf')\n",
    "    plt.close()"
   ],
   "metadata": {
    "collapsed": false,
    "pycharm": {
     "name": "#%%\n"
    }
   }
  },
  {
   "cell_type": "markdown",
   "source": [
    "The next cell plots the histogram of cluster densities."
   ],
   "metadata": {
    "collapsed": false
   }
  },
  {
   "cell_type": "code",
   "execution_count": null,
   "outputs": [],
   "source": [
    "feature = 'density'\n",
    "xmin=1e-2\n",
    "n_bins = 25\n",
    "plt.close('all')\n",
    "save_figure = True # if True, we save the figure as .pdf in ´fig_dir´\n",
    "\n",
    "# compute cluster properties\n",
    "data = []\n",
    "for method in methods:\n",
    "    clu = Clustering().load(results_dir + 'clustering_' + method + '.json')\n",
    "    data.append(get_cluster_properties(graph, clu, feature=feature))\n",
    "\n",
    "# plot histogram\n",
    "_, ax = plt.subplots(figsize=(12,9))\n",
    "plot_histogram(ax, data, methods, n_bins, normalization = 'pmf', log_scale=True, xmin=xmin)\n",
    "\n",
    "ax.set_xlabel(r'Cluster Density, $\\rho(\\mathcal{Y}_i)$')\n",
    "ax.set_ylabel(r'Bin Probability Mass, $p(\\rho(\\mathcal{Y}_i))$')\n",
    "ax.legend(loc='best')\n",
    "plt.tight_layout()\n",
    "\n",
    "# save figure as .pdf\n",
    "if save_figure:\n",
    "    fig_path = fig_dir + feature + '_' + network + '.pdf'\n",
    "    plt.savefig(fig_path, dpi=600, format='pdf')\n",
    "    plt.close()"
   ],
   "metadata": {
    "collapsed": false,
    "pycharm": {
     "name": "#%%\n"
    }
   }
  },
  {
   "cell_type": "markdown",
   "source": [
    "The next cell plots the histogram of clustering coefficients."
   ],
   "metadata": {
    "collapsed": false
   }
  },
  {
   "cell_type": "code",
   "execution_count": null,
   "outputs": [],
   "source": [
    "feature = 'clustering_coefficient'\n",
    "n_bins = 25\n",
    "xmin = 1e-2\n",
    "plt.close('all')\n",
    "save_figure = True # if True, we save the figure as .pdf in ´fig_dir´\n",
    "\n",
    "# compute cluster properties\n",
    "data = []\n",
    "for method in methods:\n",
    "    clu = Clustering().load(results_dir + 'clustering_' + method + '.json')\n",
    "    data.append(get_cluster_properties(graph, clu, feature=feature))\n",
    "\n",
    "# plot histogram\n",
    "_, ax = plt.subplots(figsize=(12,9))\n",
    "plot_histogram(ax, data, methods, n_bins, normalization = 'pmf', log_scale=True, xmin=xmin)\n",
    "\n",
    "ax.set_xlabel(r'Clustering coefficient, $c(\\mathcal{Y}_i)$')\n",
    "ax.set_ylabel(r'Bin Probability Mass, $p(c(\\mathcal{Y}_i))$')\n",
    "ax.legend(loc='best')\n",
    "plt.tight_layout()\n",
    "\n",
    "# save figure as .pdf\n",
    "if save_figure:\n",
    "    fig_path = fig_dir + feature + '_' + network + '.pdf'\n",
    "    plt.savefig(fig_path, dpi=600, format='pdf')\n",
    "    plt.close()\n"
   ],
   "metadata": {
    "collapsed": false,
    "pycharm": {
     "name": "#%%\n"
    }
   }
  },
  {
   "cell_type": "markdown",
   "source": [
    "The next cell plots the histogram of cluster conductances."
   ],
   "metadata": {
    "collapsed": false
   }
  },
  {
   "cell_type": "code",
   "execution_count": null,
   "outputs": [],
   "source": [
    "feature = 'conductance'\n",
    "n_bins = 25\n",
    "plt.close('all')\n",
    "save_figure = True # if True, we save the figure as .pdf in ´fig_dir´\n",
    "\n",
    "# compute cluster properties\n",
    "data = []\n",
    "for method in methods:\n",
    "    clu = Clustering().load(results_dir + 'clustering_' + method + '.json')\n",
    "    data.append(get_cluster_properties(graph, clu, feature=feature))\n",
    "\n",
    "# plot histogram\n",
    "_, ax = plt.subplots(figsize=(12,9))\n",
    "plot_histogram(ax, data, methods, n_bins, normalization = 'pmf', log_scale=False)\n",
    "\n",
    "ax.set_xlabel(r'Conductance, $\\kappa(\\mathcal{Y}_i)$')\n",
    "ax.set_ylabel(r'Bin Probability Mass, $p(\\kappa(\\mathcal{Y}_i))$')\n",
    "ax.legend(loc='best')\n",
    "plt.tight_layout()\n",
    "\n",
    "# save figure as .pdf\n",
    "if save_figure:\n",
    "    fig_path = fig_dir + feature + '_' + network + '.pdf'\n",
    "    plt.savefig(fig_path, dpi=600, format='pdf')\n",
    "    plt.close()\n",
    "\n"
   ],
   "metadata": {
    "collapsed": false,
    "pycharm": {
     "name": "#%%\n"
    }
   }
  },
  {
   "cell_type": "markdown",
   "source": [
    "The next cell plots the histogram of cluster cut ratios."
   ],
   "metadata": {
    "collapsed": false
   }
  },
  {
   "cell_type": "code",
   "execution_count": null,
   "outputs": [],
   "source": [
    "feature = 'cut_ratio'\n",
    "xmin = None\n",
    "n_bins = 25\n",
    "plt.close('all')\n",
    "save_figure = True # if True, we save the figure as .pdf in ´fig_dir´\n",
    "\n",
    "# compute cluster properties\n",
    "data = []\n",
    "for method in methods:\n",
    "    clu = Clustering().load(results_dir + 'clustering_' + method + '.json')\n",
    "    data.append(get_cluster_properties(graph, clu, feature=feature))\n",
    "\n",
    "# plot histogram\n",
    "_, ax = plt.subplots(figsize=(12,9))\n",
    "plot_histogram(ax, data, methods, n_bins, normalization = 'pmf', log_scale=True, xmin=xmin)\n",
    "\n",
    "ax.set_xlabel(r'Cut Ratio, $\\xi(\\mathcal{Y}_i)$')\n",
    "ax.set_ylabel(r'Bin Probability Mass, $p(\\xi(\\mathcal{Y}_i))$')\n",
    "ax.legend(loc='best')\n",
    "plt.tight_layout()\n",
    "\n",
    "# save figure as .pdf\n",
    "if save_figure:\n",
    "    fig_path = fig_dir + feature + '_' + network + '.pdf'\n",
    "    plt.savefig(fig_path, dpi=600, format='pdf')\n",
    "    plt.close()"
   ],
   "metadata": {
    "collapsed": false,
    "pycharm": {
     "name": "#%%\n"
    }
   }
  },
  {
   "cell_type": "markdown",
   "metadata": {
    "pycharm": {
     "name": "#%% md\n"
    }
   },
   "source": [
    "The next cell plots the histogram of node mixing parameters."
   ]
  },
  {
   "cell_type": "code",
   "execution_count": null,
   "metadata": {
    "pycharm": {
     "name": "#%%\n"
    }
   },
   "outputs": [],
   "source": [
    "feature = 'mixing_parameter'\n",
    "xmin = 1e-2\n",
    "n_bins = 15\n",
    "plt.close('all')\n",
    "save_figure = True # if True, we save the figure as .pdf in ´fig_dir´\n",
    "\n",
    "# compute cluster properties\n",
    "data = []\n",
    "for method in methods:\n",
    "    clu = Clustering().load(results_dir + 'clustering_' + method + '.json')\n",
    "    data.append(get_node_properties(graph, clu, feature=feature))\n",
    "\n",
    "# plot histogram\n",
    "_, ax = plt.subplots(figsize=(12,9))\n",
    "plot_histogram(ax, data, methods, n_bins, normalization = 'pmf', log_scale=True, xmin=xmin)\n",
    "\n",
    "ax.set_xlabel(r'Mixing parameter, $\\mu_\\alpha$')\n",
    "ax.set_ylabel(r'Bin Probability Mass, $p(\\mu_\\alpha)$')\n",
    "ax.legend(loc='best')\n",
    "plt.tight_layout()\n",
    "\n",
    "# save figure as .pdf\n",
    "if save_figure:\n",
    "    fig_path = fig_dir + feature + '_' + network + '.pdf'\n",
    "    plt.savefig(fig_path, dpi=600, format='pdf')\n",
    "    plt.close()\n"
   ]
  },
  {
   "cell_type": "markdown",
   "source": [
    "The next cell plots the histogram of normalized local degrees."
   ],
   "metadata": {
    "collapsed": false
   }
  },
  {
   "cell_type": "code",
   "execution_count": null,
   "outputs": [],
   "source": [
    "feature = 'nld'\n",
    "n_bins = 25\n",
    "plt.close('all')\n",
    "save_figure = True # if True, we save the figure as .pdf in ´fig_dir´\n",
    "\n",
    "# compute cluster properties\n",
    "data = []\n",
    "for method in methods:\n",
    "    clu = Clustering().load(results_dir + 'clustering_' + method + '.json')\n",
    "    data.append(get_node_properties(graph, clu, feature=feature))\n",
    "\n",
    "# plot histogram\n",
    "_, ax = plt.subplots(figsize=(12,9))\n",
    "plot_histogram(ax, data, methods, n_bins, normalization = 'pmf', log_scale=True)\n",
    "\n",
    "ax.set_xlabel(r'Normalized local degree, $\\hat{k}_\\alpha$')\n",
    "ax.set_ylabel(r'Probability Mass, $p(\\hat{k}_\\alpha)$')\n",
    "ax.legend(loc='best')\n",
    "plt.tight_layout()\n",
    "\n",
    "# save figure as .pdf\n",
    "if save_figure:\n",
    "    fig_path = fig_dir + feature + '_' + network + '.pdf'\n",
    "    plt.savefig(fig_path, dpi=600, format='pdf')\n",
    "    plt.close()"
   ],
   "metadata": {
    "collapsed": false,
    "pycharm": {
     "name": "#%%\n"
    }
   }
  }
 ],
 "metadata": {
  "kernelspec": {
   "display_name": "Python 3",
   "language": "python",
   "name": "python3"
  },
  "language_info": {
   "codemirror_mode": {
    "name": "ipython",
    "version": 3
   },
   "file_extension": ".py",
   "mimetype": "text/x-python",
   "name": "python",
   "nbconvert_exporter": "python",
   "pygments_lexer": "ipython3",
   "version": "3.7.7"
  }
 },
 "nbformat": 4,
 "nbformat_minor": 1
}