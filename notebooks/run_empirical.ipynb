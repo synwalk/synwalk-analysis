{
 "cells": [
  {
   "cell_type": "markdown",
   "metadata": {
    "pycharm": {
     "name": "#%% md\n"
    }
   },
   "source": [
    "### Run community detection on empirical networks\n",
    "\n",
    "In this notebook clean any raw empirical network and then run community detection on this network.\n",
    "\n",
    "First, we import the necessary packages."
   ]
  },
  {
   "cell_type": "code",
   "execution_count": null,
   "metadata": {
    "pycharm": {
     "name": "#%%\n"
    }
   },
   "outputs": [],
   "source": [
    "%reload_ext autoreload\n",
    "%autoreload 2\n",
    "import os\n",
    "\n",
    "from src.data.data_cleaner import DataCleaner\n",
    "from src.wrappers.igraph import read_graph, walktrap\n",
    "from src.wrappers.infomap import Infomap\n"
   ]
  },
  {
   "cell_type": "markdown",
   "metadata": {
    "pycharm": {
     "name": "#%% md\n"
    }
   },
   "source": [
    "First, we specify the network to be analyzed."
   ]
  },
  {
   "cell_type": "code",
   "execution_count": null,
   "metadata": {
    "pycharm": {
     "name": "#%%\n"
    }
   },
   "outputs": [],
   "source": [
    "# select network\n",
    "network = 'lastfm-asia'\n",
    "\n",
    "# assemble paths\n",
    "graph_file = '../data/empirical/' + network + '.txt'\n",
    "results_dir = '../results/empirical/' + network + '/'\n",
    "os.makedirs(results_dir, exist_ok=True)\n"
   ]
  },
  {
   "cell_type": "markdown",
   "metadata": {},
   "source": [
    "Clean the network data, if necessary."
   ]
  },
  {
   "cell_type": "code",
   "execution_count": null,
   "metadata": {
    "pycharm": {
     "name": "#%%\n"
    }
   },
   "outputs": [],
   "source": [
    "cleaner = DataCleaner(raw_dir='../data/raw/', cleaned_dir='../data/empirical/')\n",
    "cleaner.clean(network)\n",
    "# cleaner.clean_all()\n"
   ]
  },
  {
   "cell_type": "markdown",
   "metadata": {},
   "source": [
    "Now, load the graph and run the community detection methods on the network."
   ]
  },
  {
   "cell_type": "code",
   "execution_count": null,
   "metadata": {
    "pycharm": {
     "name": "#%%\n"
    }
   },
   "outputs": [],
   "source": [
    "graph = read_graph(graph_file)\n",
    "\n",
    "print('Detecting communities on ' + network + ' with Infomap...', flush=True)\n",
    "clu = Infomap().infomap(graph_file)\n",
    "clu.save(results_dir + 'clustering_infomap.json')\n",
    "\n",
    "print('Detecting communities on ' + network + ' with SynWalk...', flush=True)\n",
    "clu = Infomap().synwalk(graph_file)\n",
    "clu.save(results_dir + 'clustering_synwalk.json')\n",
    "\n",
    "print('Detecting communities on ' + network + ' with Walktrap...', flush=True)\n",
    "clu = walktrap(graph_file)\n",
    "clu.save(results_dir + 'clustering_walktrap.json')"
   ]
  }
 ],
 "metadata": {
  "kernelspec": {
   "display_name": "Python 3",
   "language": "python",
   "name": "python3"
  },
  "language_info": {
   "codemirror_mode": {
    "name": "ipython",
    "version": 3
   },
   "file_extension": ".py",
   "mimetype": "text/x-python",
   "name": "python",
   "nbconvert_exporter": "python",
   "pygments_lexer": "ipython3",
   "version": "3.7.7"
  }
 },
 "nbformat": 4,
 "nbformat_minor": 1
}