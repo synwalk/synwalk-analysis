{
 "cells": [
  {
   "cell_type": "markdown",
   "metadata": {},
   "source": [
    "# Generate and store LFR benchmark graphs\n",
    "\n",
    "In this notebook we generate LFR benchmark graphs with given parameters (network size $n$,\n",
    "mixing parameter $\\mu$ and average degree $k^{avg}$).\n",
    "\n",
    "First, we import the necessary packages."
   ]
  },
  {
   "cell_type": "code",
   "execution_count": null,
   "outputs": [],
   "source": [
    "%load_ext autoreload\n",
    "%autoreload 2\n",
    "import os\n",
    "import shutil\n",
    "\n",
    "import numpy as np\n",
    "\n",
    "from src.data.generate_lfr import generate_benchmark_graphs"
   ],
   "metadata": {
    "collapsed": false,
    "pycharm": {
     "name": "#%%\n"
    }
   }
  },
  {
   "cell_type": "markdown",
   "source": [
    "## Generate benchmark graphs for fixed average degree and network size.\n",
    "\n",
    "Generate benchmarks for fixed average degree $k^{avg}$ and network size $n$ as a\n",
    "function of the mixing parameter $\\mu$."
   ],
   "metadata": {
    "collapsed": false,
    "pycharm": {
     "name": "#%% md\n"
    }
   }
  },
  {
   "cell_type": "code",
   "execution_count": null,
   "outputs": [],
   "source": [
    "# generation setup\n",
    "lfr_dir = '../data/lfr_benchmark/' # dir where to store the generated graphs\n",
    "delete_existing = False # delete existing benchmarks\n",
    "\n",
    "# benchmark parameters\n",
    "num_graphs = 100 # number of graphs to be generated per parameter tuple (k, n, mu)\n",
    "n_list = [300, 600, 1200]\n",
    "avg_degree_list = [8]\n",
    "mu_list = np.around(np.linspace(0.2, 0.8, 30), 2)\n",
    "\n",
    "i = 0\n",
    "total_graphs = num_graphs * len(n_list) * len(mu_list) * len(avg_degree_list)\n",
    "for avg_degree in avg_degree_list:\n",
    "    for n in n_list:\n",
    "        # generate/empty folder for networks with the same average degree and size\n",
    "        n_dir = lfr_dir + f'{avg_degree}deg/{n}n/'\n",
    "        if os.path.isdir(n_dir):\n",
    "            if not delete_existing:\n",
    "                print('\\nDirectory \\'' + n_dir + '\\' already exists, not generating benchmarks...')\n",
    "                break\n",
    "\n",
    "            print('\\nDirectory \\'' + n_dir + '\\' already exists, delete existing benchmarks...')\n",
    "            for root, dirs, files in os.walk(n_dir):\n",
    "                for file in files:\n",
    "                    os.remove(os.path.join(root, file))\n",
    "                for folder in dirs:\n",
    "                    shutil.rmtree(os.path.join(root, folder))\n",
    "\n",
    "        # generate benchmark graphs\n",
    "        for mu in mu_list:\n",
    "            i = i+1\n",
    "            # create sub-folders for networks with the same mixing parameter, if necessary\n",
    "            mu_dir = n_dir + f'{int(mu*100)}mu/'\n",
    "            os.makedirs(mu_dir, exist_ok=True)\n",
    "\n",
    "            # generate benchmark graphs\n",
    "            generate_benchmark_graphs(mu_dir, num_graphs, n, mu, avg_degree)\n",
    "            print(f'\\rGenerated {i*num_graphs}/{total_graphs} graphs.', end='')\n"
   ],
   "metadata": {
    "collapsed": false,
    "pycharm": {
     "name": "#%%\n"
    }
   }
  },
  {
   "cell_type": "markdown",
   "source": [
    "## Generate benchmark graphs for fixed average degree and mixing parameter.\n",
    "\n",
    "Generate benchmarks for fixed average degree $k^{avg}$ and mixing parameter $\\mu$ as a\n",
    "function of the network size $n$."
   ],
   "metadata": {
    "collapsed": false,
    "pycharm": {
     "name": "#%% md\n"
    }
   }
  },
  {
   "cell_type": "code",
   "execution_count": null,
   "outputs": [],
   "source": [
    "# generation setup\n",
    "lfr_dir = '../data/lfr_benchmark/' # dir where to store the generated graphs\n",
    "delete_existing = False # delete existing benchmarks\n",
    "\n",
    "# benchmark parameters\n",
    "num_graphs = 50 # number of graphs to be generated per parameter tuple (k, mu, n)\n",
    "avg_degree_list = [8]\n",
    "mu_list = [0.45, 0.55]\n",
    "n_list = [300, 600, 1200, 2400, 4800, 9600]\n",
    "\n",
    "i = 0\n",
    "total_graphs = num_graphs * len(n_list) * len(mu_list) * len(avg_degree_list)\n",
    "for avg_degree in avg_degree_list:\n",
    "    for mu in mu_list:\n",
    "        # generate/empty folder for networks with the same average degree and mixing parameter\n",
    "        mu_dir = lfr_dir + f'{avg_degree}deg/{int(mu*100)}mu/'\n",
    "        if os.path.isdir(mu_dir):\n",
    "            if delete_existing:\n",
    "                print('\\nDirectory \\'' + mu_dir + '\\' already exists, delete existing benchmarks...')\n",
    "                for root, dirs, files in os.walk(mu_dir):\n",
    "                    for file in files:\n",
    "                        os.remove(os.path.join(root, file))\n",
    "                    for folder in dirs:\n",
    "                        shutil.rmtree(os.path.join(root, folder))\n",
    "            else:\n",
    "                print('\\nDirectory \\'' + mu_dir + '\\' already exists, add benchmarks...')\n",
    "\n",
    "\n",
    "        # generate benchmark graphs\n",
    "        for n in n_list:\n",
    "            i = i+1\n",
    "            # create sub-folders for networks with the same size, if necessary\n",
    "            n_dir = mu_dir + f'{n}n/'\n",
    "            os.makedirs(n_dir, exist_ok=True)\n",
    "\n",
    "            # generate benchmark graphs\n",
    "            generate_benchmark_graphs(n_dir, num_graphs, n, mu, avg_degree)\n",
    "            print(f'\\rGenerated {i*num_graphs}/{total_graphs} graphs.', end='')\n"
   ],
   "metadata": {
    "collapsed": false,
    "pycharm": {
     "name": "#%%\n"
    }
   }
  }
 ],
 "metadata": {
  "kernelspec": {
   "display_name": "Python 3",
   "language": "python",
   "name": "python3"
  },
  "language_info": {
   "codemirror_mode": {
    "name": "ipython",
    "version": 3
   },
   "file_extension": ".py",
   "mimetype": "text/x-python",
   "name": "python",
   "nbconvert_exporter": "python",
   "pygments_lexer": "ipython3",
   "version": "3.6.8"
  }
 },
 "nbformat": 4,
 "nbformat_minor": 1
}