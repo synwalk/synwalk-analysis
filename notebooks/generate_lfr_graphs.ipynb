{
 "cells": [
  {
   "cell_type": "markdown",
   "metadata": {},
   "source": [
    "### Generate and store LFR benchmark graphs\n"
   ]
  },
  {
   "cell_type": "code",
   "execution_count": 1,
   "outputs": [
    {
     "name": "stdout",
     "output_type": "stream",
     "text": [
      "Generated 27000/27000 graphs."
     ]
    }
   ],
   "source": [
    "%load_ext autoreload\n",
    "%autoreload 2\n",
    "import os\n",
    "import shutil\n",
    "\n",
    "import numpy as np\n",
    "\n",
    "from src.data.generate_lfr import generate_benchmark_graphs\n",
    "\n",
    "lfr_dir = '../data/lfr_benchmark/' # dir where to store the generated graphs\n",
    "delete_existing = True # delete existing benchmarks\n",
    "\n",
    "num_graphs = 100 # number of graphs to be generated per parameter tuple (n, mu)\n",
    "n_list = [300, 600, 1200]\n",
    "avg_degree_list = [15, 25, 50]\n",
    "mu_list = np.around(np.linspace(0.2, 0.8, 30), 2)\n",
    "total_graphs = num_graphs * len(n_list) * len(mu_list) * len(avg_degree_list)\n",
    "\n",
    "i = 0\n",
    "for avg_degree in avg_degree_list:\n",
    "    for n in n_list:\n",
    "        # generate/empty folder for networks of the same size\n",
    "        n_dir = lfr_dir + f'{avg_degree}deg/{n}n/'\n",
    "        if os.path.isdir(n_dir):\n",
    "            if not delete_existing:\n",
    "                print('\\nDirectory \\'' + n_dir + '\\' already exists, not generating benchmarks...')\n",
    "                break\n",
    "\n",
    "            print('\\nDirectory \\'' + n_dir + '\\' already exists, delete existing benchmarks...')\n",
    "            for root, dirs, files in os.walk(n_dir):\n",
    "                for file in files:\n",
    "                    os.remove(os.path.join(root, file))\n",
    "                for folder in dirs:\n",
    "                    shutil.rmtree(os.path.join(root, folder))\n",
    "\n",
    "        # generate benchmark graphs\n",
    "        for mu in mu_list:\n",
    "            i = i+1\n",
    "            # generate folder for networks with same size and mixing parameter\n",
    "            mu_dir = n_dir + f'{int(mu*100)}mu/'\n",
    "            os.makedirs(mu_dir, exist_ok=True)\n",
    "\n",
    "            # generate benchmark graphs\n",
    "            generate_benchmark_graphs(mu_dir, num_graphs, n, mu, avg_degree)\n",
    "            print(f'\\rGenerated {i*num_graphs}/{total_graphs} graphs.', end='')\n"
   ],
   "metadata": {
    "collapsed": false,
    "pycharm": {
     "name": "#%%\n"
    }
   }
  }
 ],
 "metadata": {
  "kernelspec": {
   "display_name": "Python 3",
   "language": "python",
   "name": "python3"
  },
  "language_info": {
   "codemirror_mode": {
    "name": "ipython",
    "version": 3
   },
   "file_extension": ".py",
   "mimetype": "text/x-python",
   "name": "python",
   "nbconvert_exporter": "python",
   "pygments_lexer": "ipython3",
   "version": "3.6.8"
  }
 },
 "nbformat": 4,
 "nbformat_minor": 1
}