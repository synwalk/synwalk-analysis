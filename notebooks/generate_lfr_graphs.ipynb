{
 "cells": [
  {
   "cell_type": "markdown",
   "metadata": {},
   "source": [
    "### Generate and store LFR benchmark graphs\n"
   ]
  },
  {
   "cell_type": "code",
   "execution_count": 1,
   "outputs": [
    {
     "name": "stdout",
     "output_type": "stream",
     "text": [
      "Generated 6000/6000 graphs."
     ]
    }
   ],
   "source": [
    "import os\n",
    "\n",
    "import numpy as np\n",
    "\n",
    "from src.data.generate_lfr import generate_benchmark_graphs\n",
    "from src.data.generate_lfr import generate_lfr_params\n",
    "\n",
    "lfr_dir = '../data/lfr_benchmark' # dir where to store the generated graphs\n",
    "storage_dir = lfr_dir + '/test'\n",
    "\n",
    "num_graphs = 100\n",
    "n_list = [500, 1200]\n",
    "mu_list = np.around(np.linspace(0.15, 0.7, 30), 2)\n",
    "total_graphs = num_graphs * len(n_list) * len(mu_list)\n",
    "\n",
    "i = 0\n",
    "for n in n_list:\n",
    "    # generate folder for networks of the same size\n",
    "    n_dir = lfr_dir + f'/{n}n'\n",
    "    try:\n",
    "        os.mkdir(n_dir)\n",
    "    except OSError as error:\n",
    "        print('Directory \\'' + n_dir + '\\' already exists.')\n",
    "\n",
    "    for mu in mu_list:\n",
    "        i = i+1\n",
    "        # generate folder for networks with same size and mixing parameter\n",
    "        mu_dir = n_dir + f'/{int(mu*100)}mu'\n",
    "        try:\n",
    "            os.mkdir(mu_dir)\n",
    "        except OSError as error:\n",
    "            print('Directory \\'' + mu_dir + '\\' already exists.')\n",
    "            continue\n",
    "\n",
    "        # generate benchmark graphs\n",
    "        params = generate_lfr_params(n, mu)\n",
    "        generate_benchmark_graphs(mu_dir, num_graphs, params)\n",
    "        print(f'\\rGenerated {i*num_graphs}/{total_graphs} graphs.', end='')"
   ],
   "metadata": {
    "collapsed": false,
    "pycharm": {
     "name": "#%%\n"
    }
   }
  }
 ],
 "metadata": {
  "kernelspec": {
   "display_name": "Python 3",
   "language": "python",
   "name": "python3"
  },
  "language_info": {
   "codemirror_mode": {
    "name": "ipython",
    "version": 3
   },
   "file_extension": ".py",
   "mimetype": "text/x-python",
   "name": "python",
   "nbconvert_exporter": "python",
   "pygments_lexer": "ipython3",
   "version": "3.6.8"
  }
 },
 "nbformat": 4,
 "nbformat_minor": 1
}