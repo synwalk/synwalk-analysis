{
 "cells": [
  {
   "cell_type": "markdown",
   "metadata": {},
   "source": [
    "### Test infomap on the generated LFR benchmark graphs\n"
   ]
  },
  {
   "cell_type": "markdown",
   "source": [
    "Import necessary packages."
   ],
   "metadata": {
    "collapsed": false,
    "pycharm": {
     "name": "#%% md\n"
    }
   }
  },
  {
   "cell_type": "code",
   "execution_count": 7,
   "outputs": [],
   "source": [
    "from src.lfr.run_benchmark import run_benchmark\n",
    "from src.wrappers.igraph import *\n",
    "from src.wrappers.infomap import Infomap"
   ],
   "metadata": {
    "collapsed": false,
    "pycharm": {
     "name": "#%%\n"
    }
   }
  },
  {
   "cell_type": "markdown",
   "source": [
    "Run benchmarks for fixed network size $n$ as a function of the mixing parameter $\\mu$."
   ],
   "metadata": {
    "collapsed": false,
    "pycharm": {
     "name": "#%% md\n"
    }
   }
  },
  {
   "cell_type": "code",
   "execution_count": 9,
   "outputs": [
    {
     "name": "stdout",
     "output_type": "stream",
     "text": [
      "Starting benchmark for benchmark set 1/1...\n",
      "Testing method 1/2 (infomap)...\n",
      "Completed 30/30 data points.\n",
      "Testing method 2/2 (synwalk)...\n",
      "Completed 30/30 data points.\n"
     ]
    }
   ],
   "source": [
    "# method dict; do not change!\n",
    "methods = {'infomap':Infomap().infomap,\n",
    "           'synwalk':Infomap().synwalk,\n",
    "           'walktrap':walktrap,\n",
    "           'label_propagation':label_propagation}\n",
    "\n",
    "\n",
    "path_tokens = ['200n']\n",
    "selected_methods = ['infomap', 'synwalk']\n",
    "\n",
    "for token_idx, token in enumerate(path_tokens):\n",
    "    print(f'Starting benchmark for benchmark set {token_idx+1}/{len(path_tokens)}...')\n",
    "    benchmark_path = '../data/lfr_benchmark/' + token + '/'\n",
    "\n",
    "    for i, method in enumerate(selected_methods):\n",
    "        print(f'Testing method {i+1}/{len(selected_methods)} ({method})...')\n",
    "        if method not in methods:\n",
    "            continue\n",
    "\n",
    "        storage_path = '../results/lfr/' + method + '/' + token + '.pkl'\n",
    "        results = run_benchmark(benchmark_path, methods[method])\n",
    "        results.save(storage_path)\n",
    "\n"
   ],
   "metadata": {
    "collapsed": false,
    "pycharm": {
     "name": "#%% run LFR benchmarks\n"
    }
   }
  }
 ],
 "metadata": {
  "kernelspec": {
   "display_name": "Python 3",
   "language": "python",
   "name": "python3"
  },
  "language_info": {
   "codemirror_mode": {
    "name": "ipython",
    "version": 3
   },
   "file_extension": ".py",
   "mimetype": "text/x-python",
   "name": "python",
   "nbconvert_exporter": "python",
   "pygments_lexer": "ipython3",
   "version": "3.6.8"
  }
 },
 "nbformat": 4,
 "nbformat_minor": 1
}