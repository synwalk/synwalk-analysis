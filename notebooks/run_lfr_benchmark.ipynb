{
 "cells": [
  {
   "cell_type": "markdown",
   "metadata": {},
   "source": [
    "### Test infomap on the generated LFR benchmark graphs\n"
   ]
  },
  {
   "cell_type": "markdown",
   "source": [
    "Import necessary packages."
   ],
   "metadata": {
    "collapsed": false,
    "pycharm": {
     "name": "#%% md\n"
    }
   }
  },
  {
   "cell_type": "code",
   "execution_count": 1,
   "outputs": [],
   "source": [
    "%load_ext autoreload\n",
    "%autoreload 2\n",
    "\n",
    "import os\n",
    "import shutil\n",
    "\n",
    "from src.lfr.run_benchmark import run_benchmark, evaluate_clustering_results\n"
   ],
   "metadata": {
    "collapsed": false,
    "pycharm": {
     "name": "#%%\n"
    }
   }
  },
  {
   "cell_type": "markdown",
   "source": [
    "Run benchmarks for fixed network size $n$ as a function of the mixing parameter $\\mu$."
   ],
   "metadata": {
    "collapsed": false,
    "pycharm": {
     "name": "#%% md\n"
    }
   }
  },
  {
   "cell_type": "code",
   "execution_count": 115,
   "outputs": [
    {
     "name": "stdout",
     "output_type": "stream",
     "text": [
      "Starting benchmark for benchmark set 1/1...\n",
      "Testing method 1/1 (infomap)...\n",
      "Completed 30/30 data points.\n"
     ]
    }
   ],
   "source": [
    "avg_degree_list = [15]#, 25, 50]\n",
    "n_list = [300]#, 600, 1200]\n",
    "selected_methods = ['infomap']#, 'synwalk', 'walktrap']#, 'label_propagation']\n",
    "num_benchmark_sets = len(n_list) * len(avg_degree_list)\n",
    "\n",
    "i = 0\n",
    "for avg_degree in avg_degree_list:\n",
    "    for n in n_list:\n",
    "        i += 1\n",
    "        print(f'Starting benchmark for benchmark set {i}/{num_benchmark_sets}...')\n",
    "        benchmark_dir = f'../data/lfr_benchmark/{avg_degree}deg/{n}n/'\n",
    "\n",
    "        for j, method in enumerate(selected_methods):\n",
    "            print(f'Testing method {j+1}/{len(selected_methods)} ({method})...')\n",
    "            results_dir = '../results/lfr/clustering/' + method + f'/{avg_degree}deg/{n}n/'\n",
    "\n",
    "            # delete existing results\n",
    "            shutil.rmtree(results_dir,ignore_errors=True)\n",
    "            os.makedirs(results_dir, exist_ok=True)\n",
    "\n",
    "            run_benchmark(benchmark_dir, results_dir, method)\n"
   ],
   "metadata": {
    "collapsed": false,
    "pycharm": {
     "name": "#%% run LFR benchmarks\n"
    }
   }
  },
  {
   "cell_type": "markdown",
   "source": [
    "Evaluate predicted clusterings for fixed network size $n$ as a function of the mixing parameter $\\mu$.\n"
   ],
   "metadata": {
    "collapsed": false
   }
  },
  {
   "cell_type": "code",
   "execution_count": 2,
   "outputs": [
    {
     "name": "stdout",
     "output_type": "stream",
     "text": [
      "Evaluating predicted clusterings for benchmark set 1/6...\n",
      "Evaluating method 1/1 (synwalk)...\n",
      "Completed 30/30 data points.\n",
      "Evaluating predicted clusterings for benchmark set 2/6...\n",
      "Evaluating method 1/1 (synwalk)...\n",
      "Completed 30/30 data points.\n",
      "Evaluating predicted clusterings for benchmark set 3/6...\n",
      "Evaluating method 1/1 (synwalk)...\n",
      "Completed 30/30 data points.\n",
      "Evaluating predicted clusterings for benchmark set 4/6...\n",
      "Evaluating method 1/1 (synwalk)...\n",
      "Completed 30/30 data points.\n",
      "Evaluating predicted clusterings for benchmark set 5/6...\n",
      "Evaluating method 1/1 (synwalk)...\n",
      "Completed 30/30 data points.\n",
      "Evaluating predicted clusterings for benchmark set 6/6...\n",
      "Evaluating method 1/1 (synwalk)...\n",
      "Completed 30/30 data points.\n"
     ]
    }
   ],
   "source": [
    "metric = 'ami'\n",
    "avg_degree_list = [15]#, 25, 50]\n",
    "n_list = [300]#, 600, 1200]\n",
    "selected_methods = ['infomap']#, 'synwalk', 'walktrap']#, 'label_propagation']\n",
    "num_benchmark_sets = len(n_list) * len(avg_degree_list)\n",
    "\n",
    "i = 0\n",
    "for avg_degree in avg_degree_list:\n",
    "    for n in n_list:\n",
    "        i += 1\n",
    "        print(f'Evaluating predicted clusterings for benchmark set {i}/{num_benchmark_sets}...')\n",
    "        benchmark_dir = f'../data/lfr_benchmark/{avg_degree}deg/{n}n/'\n",
    "\n",
    "        for j, method in enumerate(selected_methods):\n",
    "            print(f'Evaluating method {j+1}/{len(selected_methods)} ({method})...')\n",
    "            pred_dir = '../results/lfr/clustering/' + method + f'/{avg_degree}deg/{n}n/'\n",
    "\n",
    "            results = evaluate_clustering_results(benchmark_dir, pred_dir, metric)\n",
    "\n",
    "            results_dir = '../results/lfr/' + metric + '/' + method + f'/{avg_degree}deg/'\n",
    "            os.makedirs(results_dir, exist_ok=True)\n",
    "            results.save(results_dir + f'{n}n.pkl')"
   ],
   "metadata": {
    "collapsed": false,
    "pycharm": {
     "name": "#%% evaluate predicted clusterings\n"
    }
   }
  }
 ],
 "metadata": {
  "kernelspec": {
   "display_name": "Python 3",
   "language": "python",
   "name": "python3"
  },
  "language_info": {
   "codemirror_mode": {
    "name": "ipython",
    "version": 3
   },
   "file_extension": ".py",
   "mimetype": "text/x-python",
   "name": "python",
   "nbconvert_exporter": "python",
   "pygments_lexer": "ipython3",
   "version": "3.6.8"
  }
 },
 "nbformat": 4,
 "nbformat_minor": 1
}