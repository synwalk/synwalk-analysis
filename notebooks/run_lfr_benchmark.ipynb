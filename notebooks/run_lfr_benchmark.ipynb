{
 "cells": [
  {
   "cell_type": "markdown",
   "metadata": {},
   "source": [
    "# Run the LFR benchmark\n",
    "\n",
    "In this notebook we run the community detection methods under\n",
    "comparision on sets of generated LFR benchmark graphs.\n",
    "\n",
    "First, we import the necessary packages."
   ]
  },
  {
   "cell_type": "code",
   "execution_count": null,
   "outputs": [],
   "source": [
    "%load_ext autoreload\n",
    "%autoreload 2\n",
    "\n",
    "from src.scripts.evaluate_lfr import eval_lfr_k_mu_n, eval_lfr_k_n_mu\n",
    "from src.scripts.run_lfr import run_lfr_k_mu_n, run_lfr_k_n_mu"
   ],
   "metadata": {
    "collapsed": false,
    "pycharm": {
     "name": "#%%\n"
    }
   }
  },
  {
   "cell_type": "markdown",
   "source": [
    "## Benchmarks with fixed average degree and network size\n",
    "\n",
    "Run benchmarks for fixed average degree $k^{avg}$ and network size $n$ as a\n",
    "function of the mixing parameter $\\mu$."
   ],
   "metadata": {
    "collapsed": false,
    "pycharm": {
     "name": "#%% md\n"
    }
   }
  },
  {
   "cell_type": "code",
   "execution_count": null,
   "outputs": [],
   "source": [
    "# benchmark setup\n",
    "avg_degree_list = [15, 25, 50]\n",
    "n_list = [300, 600, 1200]\n",
    "selected_methods = ['infomap', 'synwalk', 'walktrap', 'louvain', 'graphtool']\n",
    "overwrite_results = False\n",
    "\n",
    "run_lfr_k_n_mu(avg_degree_list, n_list, selected_methods, overwrite_results, base_path='../')"
   ],
   "metadata": {
    "collapsed": false,
    "pycharm": {
     "name": "#%% run LFR benchmarks\n"
    }
   }
  },
  {
   "cell_type": "markdown",
   "source": [
    "Evaluate predicted clusterings for fixed average degree $k^{avg}$ and network size $n$ as a\n",
    "function of the mixing parameter $\\mu$."
   ],
   "metadata": {
    "collapsed": false
   }
  },
  {
   "cell_type": "code",
   "execution_count": null,
   "outputs": [],
   "source": [
    "# benchmark setup\n",
    "avg_degree_list = [15, 25, 50]\n",
    "n_list = [300, 600, 1200]\n",
    "selected_methods = ['infomap', 'synwalk', 'walktrap', 'louvain', 'graphtool']\n",
    "\n",
    "eval_lfr_k_n_mu(avg_degree_list, n_list, selected_methods, base_path='../')\n",
    "\n"
   ],
   "metadata": {
    "collapsed": false,
    "pycharm": {
     "name": "#%% evaluate predicted clusterings\n"
    }
   }
  },
  {
   "cell_type": "markdown",
   "source": [
    "## Benchmarks with fixed average degree and mixing parameter\n",
    "\n",
    "Run benchmarks for fixed average degree $k^{avg}$ and mixing parameter $\\mu$ as\n",
    "a function of the network size $n$."
   ],
   "metadata": {
    "collapsed": false
   }
  },
  {
   "cell_type": "code",
   "execution_count": null,
   "outputs": [],
   "source": [
    "# benchmark setup\n",
    "avg_degree_list = [15, 25, 50]\n",
    "mu_list = [0.35, 0.45, 0.55]\n",
    "selected_methods = ['synwalk']\n",
    "overwrite_results = False\n",
    "\n",
    "run_lfr_k_mu_n(avg_degree_list, mu_list, selected_methods, overwrite_results, base_path='../')"
   ],
   "metadata": {
    "collapsed": false,
    "pycharm": {
     "name": "#%% run LFR benchmarks\n"
    }
   }
  },
  {
   "cell_type": "markdown",
   "source": [
    " Evaluate predicted clusterings for fixed average degree $k^{avg}$ and mixing parameter $\\mu$ as\n",
    "a function of the network size $n$."
   ],
   "metadata": {
    "collapsed": false
   }
  },
  {
   "cell_type": "code",
   "execution_count": null,
   "outputs": [],
   "source": [
    "# benchmark setup\n",
    "avg_degree_list = [15, 25, 50]\n",
    "mu_list = [0.35, 0.45, 0.55]\n",
    "selected_methods = ['synwalk']\n",
    "\n",
    "eval_lfr_k_mu_n(avg_degree_list, mu_list, selected_methods, base_path='../')"
   ],
   "metadata": {
    "collapsed": false,
    "pycharm": {
     "name": "#%% evaluate predicted clusterings\n"
    }
   }
  }
 ],
 "metadata": {
  "kernelspec": {
   "display_name": "Python 3",
   "language": "python",
   "name": "python3"
  },
  "language_info": {
   "codemirror_mode": {
    "name": "ipython",
    "version": 3
   },
   "file_extension": ".py",
   "mimetype": "text/x-python",
   "name": "python",
   "nbconvert_exporter": "python",
   "pygments_lexer": "ipython3",
   "version": "3.6.8"
  }
 },
 "nbformat": 4,
 "nbformat_minor": 1
}