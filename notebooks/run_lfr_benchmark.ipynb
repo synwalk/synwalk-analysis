{
 "cells": [
  {
   "cell_type": "markdown",
   "metadata": {},
   "source": [
    "# Run the LFR benchmark\n",
    "\n",
    "In this notebook we run the community detection methods under\n",
    "comparision on sets of generated LFR benchmark graphs.\n",
    "\n",
    "First, we import the necessary packages."
   ]
  },
  {
   "cell_type": "code",
   "execution_count": 2,
   "outputs": [],
   "source": [
    "%load_ext autoreload\n",
    "%autoreload 2\n",
    "\n",
    "import os\n",
    "\n",
    "from src.lfr.run_benchmark import run_benchmark, evaluate_clustering_results\n"
   ],
   "metadata": {
    "collapsed": false,
    "pycharm": {
     "name": "#%%\n"
    }
   }
  },
  {
   "cell_type": "markdown",
   "source": [
    "## Benchmarks with fixed average degree and network size\n",
    "\n",
    "Run benchmarks for fixed average degree $k^{avg}$ and network size $n$ as a\n",
    "function of the mixing parameter $\\mu$."
   ],
   "metadata": {
    "collapsed": false,
    "pycharm": {
     "name": "#%% md\n"
    }
   }
  },
  {
   "cell_type": "code",
   "execution_count": null,
   "outputs": [
    {
     "name": "stdout",
     "output_type": "stream",
     "text": [
      "Starting benchmark for benchmark set 1/12...\n",
      "Testing method 1/3 (infomap)...\n",
      "Completed 30/30 data points.\n",
      "Testing method 2/3 (synwalk)...\n"
     ]
    }
   ],
   "source": [
    "# benchmark setup\n",
    "avg_degree_list = [15, 20, 25, 50]\n",
    "n_list = [300, 600, 1200]\n",
    "selected_methods = ['infomap', 'synwalk', 'walktrap']\n",
    "overwrite_results = True\n",
    "\n",
    "i = 0\n",
    "num_benchmark_sets = len(n_list) * len(avg_degree_list)\n",
    "for avg_degree in avg_degree_list:\n",
    "    for n in n_list:\n",
    "        i += 1\n",
    "        print(f'Starting benchmark for benchmark set {i}/{num_benchmark_sets}...')\n",
    "        benchmark_dir = f'../data/lfr_benchmark/{avg_degree}deg/{n}n/'\n",
    "\n",
    "        for j, method in enumerate(selected_methods):\n",
    "            print(f'Testing method {j+1}/{len(selected_methods)} ({method})...')\n",
    "\n",
    "            # create results directory if necessary\n",
    "            results_dir = '../results/lfr/clustering/' + method + f'/{avg_degree}deg/{n}n/'\n",
    "            os.makedirs(results_dir, exist_ok=True)\n",
    "\n",
    "            run_benchmark(benchmark_dir, results_dir, method, overwrite_results=overwrite_results)"
   ],
   "metadata": {
    "collapsed": false,
    "pycharm": {
     "name": "#%% run LFR benchmarks\n",
     "is_executing": true
    }
   }
  },
  {
   "cell_type": "markdown",
   "source": [
    "Evaluate predicted clusterings for fixed average degree $k^{avg}$ and network size $n$ as a\n",
    "function of the mixing parameter $\\mu$."
   ],
   "metadata": {
    "collapsed": false
   }
  },
  {
   "cell_type": "code",
   "execution_count": null,
   "outputs": [],
   "source": [
    "# benchmark setup\n",
    "metric = 'ami'\n",
    "avg_degree_list = [15, 20, 25, 50]\n",
    "n_list = [300, 600, 1200]\n",
    "selected_methods = ['infomap', 'synwalk', 'walktrap']\n",
    "\n",
    "i = 0\n",
    "num_benchmark_sets = len(n_list) * len(avg_degree_list)\n",
    "for avg_degree in avg_degree_list:\n",
    "    for n in n_list:\n",
    "        i += 1\n",
    "        print(f'Evaluating predicted clusterings for benchmark set {i}/{num_benchmark_sets}...')\n",
    "        benchmark_dir = f'../data/lfr_benchmark/{avg_degree}deg/{n}n/'\n",
    "\n",
    "        for j, method in enumerate(selected_methods):\n",
    "            print(f'Evaluating method {j+1}/{len(selected_methods)} ({method})...')\n",
    "            pred_dir = '../results/lfr/clustering/' + method + f'/{avg_degree}deg/{n}n/'\n",
    "\n",
    "            results = evaluate_clustering_results(benchmark_dir, pred_dir, metric, variable='mu')\n",
    "\n",
    "            results_dir = '../results/lfr/' + metric + '/' + method + f'/{avg_degree}deg/'\n",
    "            os.makedirs(results_dir, exist_ok=True)\n",
    "            results.save(results_dir + f'{n}n.pkl')\n"
   ],
   "metadata": {
    "collapsed": false,
    "pycharm": {
     "name": "#%% evaluate predicted clusterings\n"
    }
   }
  },
  {
   "cell_type": "markdown",
   "source": [
    "## Benchmarks with fixed average degree and mixing parameter\n",
    "\n",
    "Run benchmarks for fixed average degree $k^{avg}$ and mixing parameter $\\mu$ as\n",
    "a function of the network size $n$."
   ],
   "metadata": {
    "collapsed": false
   }
  },
  {
   "cell_type": "code",
   "execution_count": null,
   "outputs": [],
   "source": [
    "# benchmark setup\n",
    "avg_degree_list = [15, 25, 50]\n",
    "mu_list = [0.35, 0.45, 0.55]\n",
    "selected_methods = ['infomap', 'synwalk', 'walktrap']\n",
    "overwrite_results = True\n",
    "\n",
    "i = 0\n",
    "num_benchmark_sets = len(mu_list) * len(avg_degree_list)\n",
    "for avg_degree in avg_degree_list:\n",
    "    for mu in mu_list:\n",
    "        i += 1\n",
    "        print(f'Starting benchmark for benchmark set {i}/{num_benchmark_sets}...')\n",
    "        benchmark_dir = f'../data/lfr_benchmark/{avg_degree}deg/{int(mu*100)}mu/'\n",
    "\n",
    "        for j, method in enumerate(selected_methods):\n",
    "            print(f'Testing method {j+1}/{len(selected_methods)} ({method})...')\n",
    "\n",
    "            # create results directory if necessary\n",
    "            results_dir = '../results/lfr/clustering/' + method + f'/{avg_degree}deg/{int(mu*100)}mu/'\n",
    "            os.makedirs(results_dir, exist_ok=True)\n",
    "\n",
    "            run_benchmark(benchmark_dir, results_dir, method, overwrite_results=overwrite_results)\n"
   ],
   "metadata": {
    "collapsed": false,
    "pycharm": {
     "name": "#%% run LFR benchmarks\n"
    }
   }
  },
  {
   "cell_type": "markdown",
   "source": [
    " Evaluate predicted clusterings for fixed average degree $k^{avg}$ and mixing parameter $\\mu$ as\n",
    "a function of the network size $n$."
   ],
   "metadata": {
    "collapsed": false
   }
  },
  {
   "cell_type": "code",
   "execution_count": null,
   "outputs": [],
   "source": [
    "# benchmark setup\n",
    "metric = 'ami'\n",
    "avg_degree_list = [15, 25, 50]\n",
    "mu_list = [0.35, 0.45, 0.55]\n",
    "selected_methods = ['infomap', 'synwalk', 'walktrap']\n",
    "\n",
    "i = 0\n",
    "num_benchmark_sets = len(mu_list) * len(avg_degree_list)\n",
    "for avg_degree in avg_degree_list:\n",
    "    for mu in mu_list:\n",
    "        i += 1\n",
    "        print(f'Evaluating predicted clusterings for benchmark set {i}/{num_benchmark_sets}...')\n",
    "        benchmark_dir = f'../data/lfr_benchmark/{avg_degree}deg/{int(100*mu)}mu/'\n",
    "\n",
    "        for j, method in enumerate(selected_methods):\n",
    "            print(f'Evaluating method {j+1}/{len(selected_methods)} ({method})...')\n",
    "            pred_dir = '../results/lfr/clustering/' + method + f'/{avg_degree}deg/{int(100*mu)}mu/'\n",
    "\n",
    "            results = evaluate_clustering_results(benchmark_dir, pred_dir, metric, variable='n')\n",
    "\n",
    "            results_dir = '../results/lfr/' + metric + '/' + method + f'/{avg_degree}deg/'\n",
    "            os.makedirs(results_dir, exist_ok=True)\n",
    "            results.save(results_dir + f'{int(100*mu)}mu.pkl')"
   ],
   "metadata": {
    "collapsed": false,
    "pycharm": {
     "name": "#%% evaluate predicted clusterings\n"
    }
   }
  }
 ],
 "metadata": {
  "kernelspec": {
   "display_name": "Python 3",
   "language": "python",
   "name": "python3"
  },
  "language_info": {
   "codemirror_mode": {
    "name": "ipython",
    "version": 3
   },
   "file_extension": ".py",
   "mimetype": "text/x-python",
   "name": "python",
   "nbconvert_exporter": "python",
   "pygments_lexer": "ipython3",
   "version": "3.6.8"
  }
 },
 "nbformat": 4,
 "nbformat_minor": 1
}