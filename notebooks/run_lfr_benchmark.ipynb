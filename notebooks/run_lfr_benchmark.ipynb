{
 "cells": [
  {
   "cell_type": "markdown",
   "metadata": {},
   "source": [
    "### Test infomap on the generated LFR benchmark graphs\n"
   ]
  },
  {
   "cell_type": "markdown",
   "source": [
    "Import necessary packages."
   ],
   "metadata": {
    "collapsed": false,
    "pycharm": {
     "name": "#%% md\n"
    }
   }
  },
  {
   "cell_type": "code",
   "execution_count": 1,
   "outputs": [],
   "source": [
    "%load_ext autoreload\n",
    "%autoreload 2\n",
    "\n",
    "import os\n",
    "from src.lfr.run_benchmark import run_benchmark, evaluate_clustering_results\n"
   ],
   "metadata": {
    "collapsed": false,
    "pycharm": {
     "name": "#%%\n"
    }
   }
  },
  {
   "cell_type": "markdown",
   "source": [
    "Run benchmarks for fixed network size $n$ as a function of the mixing parameter $\\mu$."
   ],
   "metadata": {
    "collapsed": false,
    "pycharm": {
     "name": "#%% md\n"
    }
   }
  },
  {
   "cell_type": "code",
   "execution_count": 5,
   "outputs": [
    {
     "name": "stdout",
     "output_type": "stream",
     "text": [
      "Starting benchmark for benchmark set 1/1...\n",
      "Testing method 1/4 (infomap)...\n",
      "Completed 30/30 data points.\n",
      "Testing method 2/4 (synwalk)...\n",
      "Completed 30/30 data points.\n",
      "Testing method 3/4 (walktrap)...\n",
      "Completed 30/30 data points.\n",
      "Testing method 4/4 (label_propagation)...\n",
      "Completed 30/30 data points.\n"
     ]
    }
   ],
   "source": [
    "path_tokens = ['1200n']\n",
    "selected_methods = ['infomap', 'synwalk', 'walktrap', 'label_propagation']\n",
    "\n",
    "for token_idx, token in enumerate(path_tokens):\n",
    "    print(f'Starting benchmark for benchmark set {token_idx+1}/{len(path_tokens)}...')\n",
    "    benchmark_dir = '../data/lfr_benchmark/' + token + '/'\n",
    "\n",
    "    for i, method in enumerate(selected_methods):\n",
    "        print(f'Testing method {i+1}/{len(selected_methods)} ({method})...')\n",
    "        results_dir = '../results/lfr/clustering/' + method + '/' + token + '/'\n",
    "\n",
    "        run_benchmark(benchmark_dir, results_dir, method)\n"
   ],
   "metadata": {
    "collapsed": false,
    "pycharm": {
     "name": "#%% run LFR benchmarks\n"
    }
   }
  },
  {
   "cell_type": "markdown",
   "source": [
    "Evaluate predicted clusterings for fixed network size $n$ as a function of the mixing parameter $\\mu$.\n"
   ],
   "metadata": {
    "collapsed": false
   }
  },
  {
   "cell_type": "code",
   "execution_count": 2,
   "outputs": [
    {
     "name": "stdout",
     "output_type": "stream",
     "text": [
      "Evaluating predicted clusterings for benchmark set 1/1...\n",
      "Evaluating method 1/1 (synwalk)...\n",
      "Completed 30/30 data points.\n"
     ]
    }
   ],
   "source": [
    "path_tokens = ['1200n']\n",
    "# selected_methods = ['infomap', 'synwalk', 'walktrap', 'label_propagation']\n",
    "selected_methods = ['synwalk']\n",
    "metric = 'synwalk_error'\n",
    "\n",
    "for token_idx, token in enumerate(path_tokens):\n",
    "    print(f'Evaluating predicted clusterings for benchmark set {token_idx+1}/{len(path_tokens)}...')\n",
    "    benchmark_dir = '../data/lfr_benchmark/' + token + '/'\n",
    "\n",
    "    for i, method in enumerate(selected_methods):\n",
    "        print(f'Evaluating method {i+1}/{len(selected_methods)} ({method})...')\n",
    "        pred_dir = '../results/lfr/clustering/' + method + '/' + token + '/'\n",
    "\n",
    "        results = evaluate_clustering_results(benchmark_dir, pred_dir, metric)\n",
    "\n",
    "        storage_dir = '../results/lfr/' + metric + '/' + method + '/'\n",
    "        os.makedirs(storage_dir, exist_ok=True)\n",
    "        results.save(storage_dir + token + '.pkl')"
   ],
   "metadata": {
    "collapsed": false,
    "pycharm": {
     "name": "#%% evaluate predicted clusterings\n"
    }
   }
  }
 ],
 "metadata": {
  "kernelspec": {
   "display_name": "Python 3",
   "language": "python",
   "name": "python3"
  },
  "language_info": {
   "codemirror_mode": {
    "name": "ipython",
    "version": 3
   },
   "file_extension": ".py",
   "mimetype": "text/x-python",
   "name": "python",
   "nbconvert_exporter": "python",
   "pygments_lexer": "ipython3",
   "version": "3.6.8"
  }
 },
 "nbformat": 4,
 "nbformat_minor": 1
}