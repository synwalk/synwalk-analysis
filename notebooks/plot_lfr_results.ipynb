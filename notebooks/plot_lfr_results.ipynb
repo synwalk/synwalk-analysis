{
 "cells": [
  {
   "cell_type": "markdown",
   "metadata": {},
   "source": [
    "## Plot LFR benchmark results\n",
    "\n",
    "In this notebook we plot the benchmark results, comparing the community detection methods under\n",
    "consideration.\n",
    "\n",
    "First, we import the necessary packages and initialize the global plotting parameters."
   ]
  },
  {
   "cell_type": "code",
   "execution_count": null,
   "metadata": {
    "pycharm": {
     "name": "#%%\n"
    }
   },
   "outputs": [],
   "source": [
    "%reload_ext autoreload\n",
    "%autoreload 2\n",
    "\n",
    "from src.scripts.plot_lfr import plot_ami_vs_mu, plot_ami_vs_rho,plot_synwalk_error_vs_mu, init_plt\n",
    "%pylab\n",
    "\n",
    "init_plt()"
   ]
  },
  {
   "cell_type": "markdown",
   "metadata": {
    "pycharm": {
     "name": "#%% md\n"
    }
   },
   "source": [
    "### Plot AMI results\n",
    "Here we plot the benchmark AMI results for a fixed average degree and network size $n$ as a function of the mixing\n",
    "parameter $\\mu$."
   ]
  },
  {
   "cell_type": "code",
   "execution_count": null,
   "outputs": [],
   "source": [
    "# plot setup\n",
    "avg_degrees = [15, 25, 50] # average node degrees\n",
    "network_sizes = [300, 600, 1200] # network sizes\n",
    "save_figures = True # if True, we save the figures as .pdf\n",
    "\n",
    "for avg_degree in avg_degrees:\n",
    "    for n in network_sizes:\n",
    "        plot_ami_vs_mu(avg_degree, n, save_figure=save_figures)"
   ],
   "metadata": {
    "collapsed": false,
    "pycharm": {
     "name": "#%%\n"
    }
   }
  },
  {
   "cell_type": "markdown",
   "metadata": {},
   "source": [
    "Here we plot the benchmark AMI results for a fixed average degree and mixing parameter $\\mu$ as a function of the network density $\\rho$."
   ]
  },
  {
   "cell_type": "code",
   "execution_count": null,
   "outputs": [],
   "source": [
    "# plot setup\n",
    "avg_degrees = [15, 25, 50] # average node degrees\n",
    "mixing_parameters = [0.35, 0.45, 0.55] # network sizes\n",
    "save_figures = True # if True, we save the figures as .pdf\n",
    "\n",
    "for avg_degree in avg_degrees:\n",
    "    for mu in mixing_parameters:\n",
    "        plot_ami_vs_rho(avg_degree, mu, save_figure=save_figures)"
   ],
   "metadata": {
    "collapsed": false,
    "pycharm": {
     "name": "#%%\n"
    }
   }
  },
  {
   "cell_type": "markdown",
   "metadata": {
    "pycharm": {
     "name": "#%% md\n"
    }
   },
   "source": [
    "### Plot synwalk error results\n",
    "\n",
    "Here we plot the relative deviation of the synwalk objective for a predicted clustering\n",
    "and the ground truth clustering of a graph."
   ]
  },
  {
   "cell_type": "code",
   "execution_count": null,
   "outputs": [],
   "source": [
    "# plot setup\n",
    "avg_degrees = [15, 25, 50] # average node degrees\n",
    "network_sizes = [300, 600, 1200] # network sizes\n",
    "save_figures = True # if True, we save the figures as .pdf\n",
    "\n",
    "for avg_degree in avg_degrees:\n",
    "    for n in network_sizes:\n",
    "        plot_synwalk_error_vs_mu(avg_degree, n, save_figure=save_figures)"
   ],
   "metadata": {
    "collapsed": false,
    "pycharm": {
     "name": "#%%\n"
    }
   }
  }
 ],
 "metadata": {
  "kernelspec": {
   "display_name": "Python 3",
   "language": "python",
   "name": "python3"
  },
  "language_info": {
   "codemirror_mode": {
    "name": "ipython",
    "version": 3
   },
   "file_extension": ".py",
   "mimetype": "text/x-python",
   "name": "python",
   "nbconvert_exporter": "python",
   "pygments_lexer": "ipython3",
   "version": "3.7.7"
  }
 },
 "nbformat": 4,
 "nbformat_minor": 1
}