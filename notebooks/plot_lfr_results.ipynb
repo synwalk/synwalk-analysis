{
 "cells": [
  {
   "cell_type": "markdown",
   "metadata": {},
   "source": [
    "# Plot LFR benchmark results\n",
    "\n",
    "In this notebook plot the benchmark results, comparing the community detection methods under\n",
    "consideration.\n",
    "\n",
    "First, we import the necessary packages and set up global plotting parameters."
   ]
  },
  {
   "cell_type": "code",
   "execution_count": 2,
   "metadata": {
    "pycharm": {
     "name": "#%%\n"
    }
   },
   "outputs": [
    {
     "name": "stdout",
     "output_type": "stream",
     "text": [
      "Using matplotlib backend: Qt5Agg\n",
      "Populating the interactive namespace from numpy and matplotlib\n"
     ]
    }
   ],
   "source": [
    "import os\n",
    "from collections import namedtuple\n",
    "\n",
    "import matplotlib.pyplot as plt\n",
    "\n",
    "from src.lfr.benchmark_results import *\n",
    "%pylab\n",
    "\n",
    "plt.rcParams.update({'font.size': 15})\n",
    "plt.rcParams.update({'text.usetex': True})\n",
    "plt.rcParams.update({'font.family': 'sans-serif'})\n",
    "plt.rcParams.update({'lines.linewidth': 2})\n",
    "plt.rcParams.update({'lines.markersize': 8})\n",
    "plt.rcParams.update({'lines.markeredgewidth': 2})\n",
    "plt.rcParams.update({'axes.labelpad': 20})\n",
    "plt.rcParams['text.latex.preamble'] = [\n",
    "    r'\\usepackage{amsmath,amssymb,amsfonts,amsthm}',\n",
    "    r'\\usepackage{siunitx}',  # i need upright \\micro symbols, but you need...\n",
    "    r'\\sisetup{detect-all}',  # ...this to force siunitx to actually use your fonts\n",
    "    r'\\usepackage{helvet}',  # set the normal font here\n",
    "    r'\\usepackage{sansmath}',  # load up the sansmath so that math -> helvet\n",
    "    r'\\sansmath'  # <- tricky! -- gotta actually tell tex to use!\n",
    "]\n",
    "\n",
    "# output directory for storing generated figures\n",
    "fig_dir = '../figures/'\n",
    "os.makedirs(fig_dir, exist_ok=True)"
   ]
  },
  {
   "cell_type": "markdown",
   "metadata": {
    "pycharm": {
     "name": "#%% md\n"
    }
   },
   "source": [
    "## Plot benchmark AMI results for a fixed average degree and network size $n$ as a function of the mixing parameter $\\mu$."
   ]
  },
  {
   "cell_type": "code",
   "execution_count": 3,
   "metadata": {
    "pycharm": {
     "name": "#%%\n"
    }
   },
   "outputs": [],
   "source": [
    "# plot setup\n",
    "avg_degree = 25 # average node degree\n",
    "n = 1200 # fixed network size of the benchmark series\n",
    "plot_uncertainty = True # if True plot uncertainty as a margin of one std deviation\n",
    "save_figure = True # if True, we save the figure as .pdf in ´fig_dir´\n",
    "\n",
    "# assemble a list of results to plot (path + plot formatting) -> add to list what you want to plot\n",
    "base_path = '../results/lfr/ami/'\n",
    "path_suffix = f'/{avg_degree}deg/{n}n.pkl'\n",
    "ResultInfo = namedtuple('ResultInfo', ['path', 'label', 'linestyle'])\n",
    "info = []\n",
    "info.append(ResultInfo(base_path + 'infomap' + path_suffix, 'Infomap', 'x:'))\n",
    "info.append(ResultInfo(base_path + 'synwalk' + path_suffix, 'SynWalk', '^:'))\n",
    "info.append(ResultInfo(base_path + 'walktrap' + path_suffix, 'Walktrap', 's:'))\n",
    "# info.append(ResultInfo(base_path + 'label_propagation' + path_suffix, 'Label Propagation', 'o:'))\n",
    "\n",
    "# plot the results\n",
    "plt.close('all')\n",
    "plt.figure(figsize=(12,9))\n",
    "\n",
    "for entry in info:\n",
    "    results = BenchmarkResults.load(entry.path)\n",
    "    xdata = results.get_var_list()\n",
    "    ydata = results.get_mean_scores()\n",
    "    plt.plot(xdata, ydata, entry.linestyle, label=entry.label)\n",
    "\n",
    "    if plot_uncertainty:\n",
    "        upper = np.clip(ydata + results.get_score_std(), 0.0, 1.0)\n",
    "        lower = np.clip(ydata - results.get_score_std(), 0.0, 1.0)\n",
    "        plt.fill_between(xdata, upper, lower, alpha=0.25)\n",
    "\n",
    "# plt.title(f'LFR benchmark\\n{n} nodes with avg degree {avg_degree}')\n",
    "plt.xlabel('Mixing parameter, $\\mu$')\n",
    "plt.ylabel(r'Adjusted Mutual Information, $\\mathcal{I}^{adj}(\\mathcal{Y}, \\mathcal{Y}_{true})$')\n",
    "plt.legend(loc=1)\n",
    "plt.tight_layout()\n",
    "\n",
    "# save figure as .pdf\n",
    "if save_figure:\n",
    "    fig_path = fig_dir + f'lfr_ami_vs_mu_{avg_degree}k_{n}n.pdf'\n",
    "    plt.savefig(fig_path, dpi=600, format='pdf')\n"
   ]
  },
  {
   "cell_type": "markdown",
   "metadata": {},
   "source": [
    "## Plot benchmark AMI results for a fixed average degree and mixing parameter $\\mu$ as a function of the network size $n$."
   ]
  },
  {
   "cell_type": "code",
   "execution_count": 108,
   "metadata": {
    "pycharm": {
     "name": "#%%\n"
    }
   },
   "outputs": [
    {
     "name": "stdout",
     "output_type": "stream",
     "text": [
      "(7,)\n",
      "Xdata range = [(0.0025003933855746053, 0.16162375704249063)]\n",
      "(7,)\n",
      "Xdata range = [(0.0025003933855746053, 0.16162375704249063)]\n",
      "(7,)\n",
      "Xdata range = [(0.0025003933855746053, 0.16162375704249063)]\n"
     ]
    },
    {
     "data": {
      "text/plain": "[]"
     },
     "execution_count": 108,
     "metadata": {},
     "output_type": "execute_result"
    }
   ],
   "source": [
    "# plot setup\n",
    "avg_degree = 50 # average node degree\n",
    "mu = 0.35 # fixed mixing parameter of the benchmark series\n",
    "plot_uncertainty = True # if True plot uncertainty as a margin of one std deviation\n",
    "save_figure = True # if True, we save the figure as .pdf in ´fig_dir´\n",
    "\n",
    "# assemble a list of results to plot (path + plot formatting) -> add to list what you want to plot\n",
    "base_path = '../results/lfr/ami/'\n",
    "path_suffix = f'/{avg_degree}deg/{int(100*mu)}mu.pkl'\n",
    "ResultInfo = namedtuple('ResultInfo', ['path', 'label', 'linestyle'])\n",
    "info = []\n",
    "info.append(ResultInfo(base_path + 'infomap' + path_suffix, 'Infomap', 'x:'))\n",
    "info.append(ResultInfo(base_path + 'synwalk' + path_suffix, 'SynWalk', '^:'))\n",
    "info.append(ResultInfo(base_path + 'walktrap' + path_suffix, 'Walktrap', 's:'))\n",
    "# info.append(ResultInfo(base_path + 'label_propagation' + path_suffix, 'Label Propagation', 'o:'))\n",
    "\n",
    "# plot the results\n",
    "plt.close('all')\n",
    "plt.figure(figsize=(12,9))\n",
    "\n",
    "for entry in info:\n",
    "    results = BenchmarkResults.load(entry.path)\n",
    "    xdata = avg_degree / results.get_var_list()\n",
    "    n = results.get_var_list()\n",
    "    xdata = (avg_degree - 2 + 1.0 / n) / (n - 3 + 2.0 / n)\n",
    "    print (xdata.shape)\n",
    "    print(f'Xdata range = [{np.min(xdata), np.max(xdata)}]')\n",
    "    # xdata = results.get_var_list()\n",
    "    ydata = results.get_mean_scores()\n",
    "    plt.plot(xdata, ydata, entry.linestyle, label=entry.label)\n",
    "\n",
    "    if plot_uncertainty:\n",
    "        upper = np.clip(ydata + results.get_score_std(), 0.0, 1.0)\n",
    "        lower = np.clip(ydata - results.get_score_std(), 0.0, 1.0)\n",
    "        plt.fill_between(xdata, upper, lower, alpha=0.25)\n",
    "\n",
    "# plt.title(f'LFR benchmark\\nmixing parameter {mu}, avg node degree {avg_degree}')\n",
    "plt.xlabel(r'Network density, $\\frac{k^{avg}}{n}\\mid_{k^{avg} = %d}$'% avg_degree)\n",
    "plt.ylabel(r'Adjusted Mutual Information, $\\mathcal{I}^{adj}(\\mathcal{Y}, \\mathcal{Y}_{true})$')\n",
    "plt.legend(loc=5)\n",
    "plt.xlim([0.00075, 0.18])\n",
    "plt.semilogx()\n",
    "\n",
    "# save figure as .pdf\n",
    "if save_figure:\n",
    "    fig_path = fig_dir + f'lfr_ami_vs_nd_{avg_degree}k_{int(100*mu)}mu.pdf'\n",
    "    plt.savefig(fig_path, dpi=600, format='pdf')\n"
   ]
  },
  {
   "cell_type": "markdown",
   "metadata": {
    "pycharm": {
     "name": "#%% md\n"
    }
   },
   "source": [
    "## Plot synwalk error results\n",
    "\n",
    "Plot the relative deviation of the synwalk objective for a predicted clustering\n",
    "and the ground truth clustering of a graph."
   ]
  },
  {
   "cell_type": "code",
   "execution_count": 4,
   "metadata": {
    "pycharm": {
     "name": "#%%\n"
    }
   },
   "outputs": [],
   "source": [
    "# plot setup\n",
    "avg_degree = 15 # average node degree\n",
    "n = 300 # fixed network size of the benchmark series\n",
    "save_figure = False # if True, we save the figure as .pdf in ´fig_dir´\n",
    "\n",
    "# assemble a list of results to plot (path + plot formatting) -> add to list what you want to plot\n",
    "base_path = '../results/lfr/synwalk_error/'\n",
    "path_suffix = f'/{avg_degree}deg/{n}n.pkl'\n",
    "ResultInfo = namedtuple('ResultInfo', ['path', 'label', 'linestyle'])\n",
    "info = []\n",
    "info.append(ResultInfo(base_path + 'synwalk' + path_suffix, 'SynWalk', 'r+:'))\n",
    "\n",
    "# plot the results\n",
    "plt.close('all')\n",
    "plt.figure(figsize=(8,6))\n",
    "\n",
    "lines = []\n",
    "labels = []\n",
    "for entry in info:\n",
    "    results = BenchmarkResults.load(entry.path)\n",
    "    # plot mean deviation\n",
    "    xdata = results.get_var_list()\n",
    "    ydata = results.get_mean_scores()\n",
    "    plt.plot([0.2,0.8], [0,0], 'k')\n",
    "    ln, = plt.plot(xdata, ydata, entry.linestyle, label=entry.label)\n",
    "    lines.append(ln)\n",
    "    labels.append(entry.label + ' - Mean Deviation')\n",
    "    # plot individual sample deviations\n",
    "    for dp in results.datapoints:\n",
    "        ln = plt.scatter([dp.var] * dp.num_samples, dp.scores, marker='x', c='b', alpha=0.3)\n",
    "\n",
    "    lines.append(ln)\n",
    "    labels.append(entry.label + ' - Objective Deviations')\n",
    "\n",
    "plt.title(f'LFR benchmark\\n{n} nodes with avg degree {avg_degree}')\n",
    "plt.xlabel('Mixing parameter, $\\mu$')\n",
    "plt.ylabel(r'SynWalk Deviation, $\\frac{J(\\mathcal{Y}) - J(\\mathcal{Y}_{true})}{J(\\mathcal{Y}_{true})}$')\n",
    "plt.legend(lines, labels, loc=0)\n",
    "\n",
    "# save figure as .pdf\n",
    "if save_figure:\n",
    "    fig_path = fig_dir + f'lfr_synwalk_err_{avg_degree}k_{n}n.pdf'\n",
    "    plt.savefig(fig_path, dpi=600, format='pdf')"
   ]
  }
 ],
 "metadata": {
  "kernelspec": {
   "display_name": "Python 3",
   "language": "python",
   "name": "python3"
  },
  "language_info": {
   "codemirror_mode": {
    "name": "ipython",
    "version": 3
   },
   "file_extension": ".py",
   "mimetype": "text/x-python",
   "name": "python",
   "nbconvert_exporter": "python",
   "pygments_lexer": "ipython3",
   "version": "3.7.7"
  }
 },
 "nbformat": 4,
 "nbformat_minor": 1
}