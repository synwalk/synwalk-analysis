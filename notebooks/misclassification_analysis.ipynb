{
 "cells": [
  {
   "cell_type": "markdown",
   "metadata": {
    "pycharm": {
     "name": "#%% md\n"
    }
   },
   "source": [
    "### Classification analysis using node statistics\n",
    "\n",
    "In this notebook we conduct a classification analysis by considering node statistics, such as e.g. average degree,\n",
    "for correct and misclassified nodes, given the benchmark results of any community detection method.\n",
    "\n",
    "First, we import the necessary packages."
   ]
  },
  {
   "cell_type": "code",
   "execution_count": 1,
   "metadata": {
    "pycharm": {
     "name": "#%%\n"
    }
   },
   "outputs": [
    {
     "name": "stdout",
     "output_type": "stream",
     "text": [
      "Using matplotlib backend: Qt5Agg\n",
      "Populating the interactive namespace from numpy and matplotlib\n"
     ]
    }
   ],
   "source": [
    "%reload_ext autoreload\n",
    "%autoreload 2\n",
    "import os\n",
    "from collections import deque\n",
    "\n",
    "import matplotlib.pyplot as plt\n",
    "import numpy as np\n",
    "from clusim.clustering import Clustering\n",
    "\n",
    "from src.data.lfr_io import get_benchmark_files\n",
    "from src.utils.cluster_analysis import normalized_local_degrees, get_misclassfied_nodes\n",
    "from src.utils.plotting import init_plot_style, plot_histogram\n",
    "from src.wrappers.igraph import read_graph\n",
    "%pylab\n",
    "\n",
    "init_plot_style()\n",
    "\n",
    "# output directory for storing generated figures\n",
    "fig_dir = '../figures/'\n",
    "os.makedirs(fig_dir, exist_ok=True)\n"
   ]
  },
  {
   "cell_type": "markdown",
   "metadata": {
    "pycharm": {
     "name": "#%% md\n"
    }
   },
   "source": [
    "Here we load the graph & clustering data and extract correctly classified and misclassified nodes."
   ]
  },
  {
   "cell_type": "code",
   "execution_count": 2,
   "metadata": {
    "pycharm": {
     "name": "#%%\n"
    }
   },
   "outputs": [],
   "source": [
    "\n",
    "# analysis parameters\n",
    "method = 'walktrap'\n",
    "avg_degree = 50\n",
    "n = 1200\n",
    "mu = 0.63\n",
    "num_samples = 100\n",
    "\n",
    "# assemble file paths\n",
    "dir_suffix = f'{avg_degree}deg/{n}n/{int(100*mu)}mu/'\n",
    "pred_dir = '../results/lfr/clustering/' +  method + '/'+ dir_suffix\n",
    "benchmark_dir = '../data/lfr_benchmark/' + dir_suffix\n",
    "\n",
    "degrees_correct = deque()\n",
    "degrees_wrong = deque()\n",
    "\n",
    "nlds_correct = deque()\n",
    "nlds_wrong = deque()\n",
    "\n",
    "# iterate over graph files and evaluate\n",
    "graph_files, clustering_files_true = get_benchmark_files(benchmark_dir)\n",
    "_, clustering_files_pred = get_benchmark_files(pred_dir)\n",
    "for sample_idx, seed in enumerate(graph_files.keys()):\n",
    "    if sample_idx >= num_samples:\n",
    "        break\n",
    "\n",
    "    # load graph & clusterings\n",
    "    graph = read_graph(graph_files[seed])\n",
    "    clu_true = Clustering().load(clustering_files_true[seed])\n",
    "    clu_pred = Clustering().load(clustering_files_pred[seed])\n",
    "\n",
    "    # extract correctly classified and misclassified nodes\n",
    "    correctly_classified, misclassified = get_misclassfied_nodes(clu_true, clu_pred)\n",
    "\n",
    "    # gather node degrees\n",
    "    node_degrees = graph.degree()\n",
    "    degrees_correct.extend([node_degrees[node] for node in correctly_classified])\n",
    "    degrees_wrong.extend([node_degrees[node] for node in misclassified])\n",
    "\n",
    "    # gather normalized local degrees\n",
    "    nlds = normalized_local_degrees(graph, clu_true)\n",
    "    nlds_correct.extend([nlds[node] for node in correctly_classified])\n",
    "    nlds_wrong.extend([nlds[node] for node in misclassified])\n"
   ]
  },
  {
   "cell_type": "markdown",
   "source": [
    "Plot the degree distributions."
   ],
   "metadata": {
    "collapsed": false
   }
  },
  {
   "cell_type": "code",
   "execution_count": 3,
   "outputs": [],
   "source": [
    "save_figure = False # if True, we save the figure as .pdf in ´fig_dir´\n",
    "\n",
    "min_deg = np.min(degrees_correct + degrees_wrong)\n",
    "max_deg = np.max(degrees_correct + degrees_wrong)\n",
    "bin_edges = np.array(range(min_deg - 1, max_deg+1)) + 0.5\n",
    "\n",
    "data = [degrees_correct, degrees_wrong]\n",
    "labels = [f'$C$ = Correct ({len(degrees_correct)} nodes)',\n",
    "          f'$C$ = Misclassified ({len(degrees_wrong)} nodes)']\n",
    "\n",
    "_, ax = plt.subplots(figsize=(12,9))\n",
    "plot_histogram(ax, data, labels, normalization = 'pmf', bin_edges=bin_edges, tick_fmt='%d')\n",
    "\n",
    "ax.set_xlabel(r'Node Degree, $k_\\alpha$')\n",
    "ax.set_ylabel(r'Probability mass, $p(k_\\alpha | C)$')\n",
    "ax.legend(loc=0)\n",
    "plt.tight_layout()\n",
    "\n",
    "# save figure as .pdf\n",
    "if save_figure:\n",
    "    fig_path = fig_dir + 'degrees_' + method + f'_{avg_degree}k_{n}n_{int(100*mu)}mu.pdf'\n",
    "    plt.savefig(fig_path, dpi=600, format='pdf')\n",
    "    plt.close()\n"
   ],
   "metadata": {
    "collapsed": false,
    "pycharm": {
     "name": "#%%\n"
    }
   }
  },
  {
   "cell_type": "markdown",
   "source": [
    "Plot the distributions of the normalized local degrees on a log scale."
   ],
   "metadata": {
    "collapsed": false,
    "pycharm": {
     "name": "#%% md\n"
    }
   }
  },
  {
   "cell_type": "code",
   "execution_count": 4,
   "outputs": [],
   "source": [
    "save_figure = False # if True, we save the figure as .pdf in ´fig_dir´\n",
    "\n",
    "n_bins = max_deg - min_deg\n",
    "data = [nlds_correct, nlds_wrong]\n",
    "labels = [f'$C$ = Correct ({len(nlds_correct)} nodes)',\n",
    "          f'$C$ = Misclassified ({len(nlds_wrong)} nodes)']\n",
    "\n",
    "_, ax = plt.subplots(figsize=(12,9))\n",
    "plot_histogram(ax, data, labels, n_bins, normalization = 'pmf', log_scale=True)\n",
    "\n",
    "ax.set_xlabel(r'Normalized local degree, $\\hat{k}_\\alpha$')\n",
    "ax.set_ylabel(r'Bin probability mass, $p(\\hat{k}_\\alpha | C)$')\n",
    "ax.legend(loc='upper left')\n",
    "plt.tight_layout()\n",
    "\n",
    "# save figure as .pdf\n",
    "if save_figure:\n",
    "    fig_path = fig_dir + 'nld_' + method + f'_{avg_degree}k_{n}n_{int(100*mu)}mu.pdf'\n",
    "    plt.savefig(fig_path, dpi=600, format='pdf')\n",
    "    plt.close()"
   ],
   "metadata": {
    "collapsed": false,
    "pycharm": {
     "name": "#%%\n"
    }
   }
  }
 ],
 "metadata": {
  "kernelspec": {
   "display_name": "Python 3",
   "language": "python",
   "name": "python3"
  },
  "language_info": {
   "codemirror_mode": {
    "name": "ipython",
    "version": 3
   },
   "file_extension": ".py",
   "mimetype": "text/x-python",
   "name": "python",
   "nbconvert_exporter": "python",
   "pygments_lexer": "ipython3",
   "version": "3.7.7"
  }
 },
 "nbformat": 4,
 "nbformat_minor": 1
}